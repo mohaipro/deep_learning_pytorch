{
  "nbformat": 4,
  "nbformat_minor": 0,
  "metadata": {
    "colab": {
      "provenance": [],
      "authorship_tag": "ABX9TyM+zhr+DrXgT/wuOxhjhRiH",
      "include_colab_link": true
    },
    "kernelspec": {
      "name": "python3",
      "display_name": "Python 3"
    },
    "language_info": {
      "name": "python"
    }
  },
  "cells": [
    {
      "cell_type": "markdown",
      "metadata": {
        "id": "view-in-github",
        "colab_type": "text"
      },
      "source": [
        "<a href=\"https://colab.research.google.com/github/mohaipro/deep_learning_pytorch/blob/main/binary_classification.ipynb\" target=\"_parent\"><img src=\"https://colab.research.google.com/assets/colab-badge.svg\" alt=\"Open In Colab\"/></a>"
      ]
    },
    {
      "cell_type": "code",
      "execution_count": 32,
      "metadata": {
        "id": "7iKOn8FerNEf"
      },
      "outputs": [],
      "source": [
        "# Import numerical operations library for efficient computations\n",
        "import numpy as np\n",
        "\n",
        "# Import pandas library for data manipulation and analysis\n",
        "import pandas as pd\n",
        "\n",
        "# Import matplotlib for data visualization (basic plotting)\n",
        "import matplotlib.pyplot as plt\n",
        "\n",
        "# Import seaborn for advanced and aesthetically pleasing statistical visualizations\n",
        "import seaborn as sns\n",
        "\n",
        "# Import scikit-learn's dataset utilities\n",
        "from sklearn.datasets import load_breast_cancer\n",
        "\n",
        "# Import train_test_split for splitting datasets into training and testing sets\n",
        "from sklearn.model_selection import train_test_split\n",
        "\n",
        "# Import tools for evaluating the performance of machine learning models\n",
        "from sklearn.metrics import classification_report, confusion_matrix"
      ]
    },
    {
      "cell_type": "code",
      "source": [
        "# Print the dimensions (shape) of the feature dataset 'X'\n",
        "print(\"Feature dataset shape (X):\", X.shape)\n",
        "\n",
        "# Print the dimensions (shape) of the target dataset 'y'\n",
        "print(\"Target dataset shape (y):\", y.shape)"
      ],
      "metadata": {
        "colab": {
          "base_uri": "https://localhost:8080/"
        },
        "id": "sE-7nrngsu-6",
        "outputId": "325bbd61-8c95-434b-e482-715ff8342d8f"
      },
      "execution_count": 33,
      "outputs": [
        {
          "output_type": "stream",
          "name": "stdout",
          "text": [
            "Feature dataset shape (X): (569, 30)\n",
            "Target dataset shape (y): (569,)\n"
          ]
        }
      ]
    },
    {
      "cell_type": "code",
      "source": [
        "# Check for missing (NaN) values in each column of the feature dataset 'X'\n",
        "# and print the total count of missing values for each column\n",
        "print(\"Missing values in each column of X:\")\n",
        "print(X.isna().sum())"
      ],
      "metadata": {
        "colab": {
          "base_uri": "https://localhost:8080/"
        },
        "id": "5kP_9rb1s3z5",
        "outputId": "ae8a3347-d4be-4174-8d7a-9a9f3db319d9"
      },
      "execution_count": 34,
      "outputs": [
        {
          "output_type": "stream",
          "name": "stdout",
          "text": [
            "Missing values in each column of X:\n",
            "mean radius                0\n",
            "mean texture               0\n",
            "mean perimeter             0\n",
            "mean area                  0\n",
            "mean smoothness            0\n",
            "mean compactness           0\n",
            "mean concavity             0\n",
            "mean concave points        0\n",
            "mean symmetry              0\n",
            "mean fractal dimension     0\n",
            "radius error               0\n",
            "texture error              0\n",
            "perimeter error            0\n",
            "area error                 0\n",
            "smoothness error           0\n",
            "compactness error          0\n",
            "concavity error            0\n",
            "concave points error       0\n",
            "symmetry error             0\n",
            "fractal dimension error    0\n",
            "worst radius               0\n",
            "worst texture              0\n",
            "worst perimeter            0\n",
            "worst area                 0\n",
            "worst smoothness           0\n",
            "worst compactness          0\n",
            "worst concavity            0\n",
            "worst concave points       0\n",
            "worst symmetry             0\n",
            "worst fractal dimension    0\n",
            "dtype: int64\n"
          ]
        }
      ]
    },
    {
      "cell_type": "code",
      "source": [
        "# Print a concise summary of the DataFrame 'X'\n",
        "# This includes information about data types, non-null values, and memory usage\n",
        "print(\"Summary information about the DataFrame 'X':\")\n",
        "print(X.info())"
      ],
      "metadata": {
        "colab": {
          "base_uri": "https://localhost:8080/"
        },
        "id": "OSxlwwWYs9Bi",
        "outputId": "2cbcbcda-cd84-4c00-d587-42772bc053ec"
      },
      "execution_count": 35,
      "outputs": [
        {
          "output_type": "stream",
          "name": "stdout",
          "text": [
            "Summary information about the DataFrame 'X':\n",
            "<class 'pandas.core.frame.DataFrame'>\n",
            "RangeIndex: 569 entries, 0 to 568\n",
            "Data columns (total 30 columns):\n",
            " #   Column                   Non-Null Count  Dtype  \n",
            "---  ------                   --------------  -----  \n",
            " 0   mean radius              569 non-null    float64\n",
            " 1   mean texture             569 non-null    float64\n",
            " 2   mean perimeter           569 non-null    float64\n",
            " 3   mean area                569 non-null    float64\n",
            " 4   mean smoothness          569 non-null    float64\n",
            " 5   mean compactness         569 non-null    float64\n",
            " 6   mean concavity           569 non-null    float64\n",
            " 7   mean concave points      569 non-null    float64\n",
            " 8   mean symmetry            569 non-null    float64\n",
            " 9   mean fractal dimension   569 non-null    float64\n",
            " 10  radius error             569 non-null    float64\n",
            " 11  texture error            569 non-null    float64\n",
            " 12  perimeter error          569 non-null    float64\n",
            " 13  area error               569 non-null    float64\n",
            " 14  smoothness error         569 non-null    float64\n",
            " 15  compactness error        569 non-null    float64\n",
            " 16  concavity error          569 non-null    float64\n",
            " 17  concave points error     569 non-null    float64\n",
            " 18  symmetry error           569 non-null    float64\n",
            " 19  fractal dimension error  569 non-null    float64\n",
            " 20  worst radius             569 non-null    float64\n",
            " 21  worst texture            569 non-null    float64\n",
            " 22  worst perimeter          569 non-null    float64\n",
            " 23  worst area               569 non-null    float64\n",
            " 24  worst smoothness         569 non-null    float64\n",
            " 25  worst compactness        569 non-null    float64\n",
            " 26  worst concavity          569 non-null    float64\n",
            " 27  worst concave points     569 non-null    float64\n",
            " 28  worst symmetry           569 non-null    float64\n",
            " 29  worst fractal dimension  569 non-null    float64\n",
            "dtypes: float64(30)\n",
            "memory usage: 133.5 KB\n",
            "None\n"
          ]
        }
      ]
    },
    {
      "cell_type": "code",
      "source": [
        "# Import the PyTorch library for deep learning tasks\n",
        "import torch\n",
        "\n",
        "# Import the neural network (nn) module for defining and building models\n",
        "import torch.nn as nn\n",
        "\n",
        "# Import the optimization module for training models\n",
        "import torch.optim as optim\n",
        "\n",
        "# Import utilities for handling and loading datasets\n",
        "from torch.utils.data import Dataset, DataLoader\n",
        "\n",
        "# Convert the feature dataset 'X' into a PyTorch tensor with dtype float32\n",
        "X = torch.tensor(X.values, dtype=torch.float32)\n",
        "\n",
        "# Convert the target dataset 'y' into a PyTorch tensor with dtype float32\n",
        "y = torch.tensor(y.values, dtype=torch.float32)\n",
        "\n",
        "# Print the shape (dimensions) of the PyTorch tensor 'X'\n",
        "print(\"Feature dataset shape (X):\", X.shape)\n",
        "\n",
        "# Print the shape (dimensions) of the PyTorch tensor 'y'\n",
        "print(\"Target dataset shape (y):\", y.shape)"
      ],
      "metadata": {
        "colab": {
          "base_uri": "https://localhost:8080/"
        },
        "id": "iFoqXjmRs_pi",
        "outputId": "c0586d39-004e-4a0a-b931-c824075f75df"
      },
      "execution_count": 36,
      "outputs": [
        {
          "output_type": "stream",
          "name": "stdout",
          "text": [
            "Feature dataset shape (X): torch.Size([569, 30])\n",
            "Target dataset shape (y): torch.Size([569])\n"
          ]
        }
      ]
    },
    {
      "cell_type": "code",
      "source": [
        "# Import train_test_split function to split datasets into training and testing sets\n",
        "from sklearn.model_selection import train_test_split\n",
        "\n",
        "# Split the feature dataset 'X' and target dataset 'y' into training and testing sets\n",
        "# test_size=0.2 indicates 20% of the data is used for testing\n",
        "# random_state=42 ensures reproducibility of the split\n",
        "X_train, X_test, y_train, y_test = train_test_split(X, y, test_size=0.2, random_state=42)\n",
        "\n",
        "# Print the shapes (dimensions) of the training and testing datasets for features (X) and targets (y)\n",
        "print(\"Training feature dataset shape (X_train):\", X_train.shape)\n",
        "print(\"Testing feature dataset shape (X_test):\", X_test.shape)\n",
        "print(\"Training target dataset shape (y_train):\", y_train.shape)\n",
        "print(\"Testing target dataset shape (y_test):\", y_test.shape)"
      ],
      "metadata": {
        "colab": {
          "base_uri": "https://localhost:8080/"
        },
        "id": "-Zt_dAdT58yL",
        "outputId": "333e43ec-6cf2-46e3-e01d-6f890138f940"
      },
      "execution_count": 37,
      "outputs": [
        {
          "output_type": "stream",
          "name": "stdout",
          "text": [
            "Training feature dataset shape (X_train): torch.Size([455, 30])\n",
            "Testing feature dataset shape (X_test): torch.Size([114, 30])\n",
            "Training target dataset shape (y_train): torch.Size([455])\n",
            "Testing target dataset shape (y_test): torch.Size([114])\n"
          ]
        }
      ]
    },
    {
      "cell_type": "code",
      "source": [
        "# Define a custom PyTorch dataset class for breast cancer data\n",
        "class BreastCancerDataset(Dataset):\n",
        "    def __init__(self, X, y):\n",
        "        # Store the feature data and target labels\n",
        "        self.X = X\n",
        "        self.y = y\n",
        "\n",
        "    def __len__(self):\n",
        "        # Return the total number of samples in the dataset\n",
        "        return len(self.X)\n",
        "\n",
        "    def __getitem__(self, idx):\n",
        "        # Retrieve a single sample (features and label) by index\n",
        "        return self.X[idx], self.y[idx]\n",
        "\n",
        "# Create training and testing datasets using the custom dataset class\n",
        "train_dataset = BreastCancerDataset(X_train, y_train)\n",
        "test_dataset = BreastCancerDataset(X_test, y_test)\n",
        "\n",
        "# Create data loaders for batching and shuffling the training data\n",
        "train_loader = DataLoader(train_dataset, batch_size=32, shuffle=True)\n",
        "\n",
        "# Create data loaders for the testing data without shuffling\n",
        "test_loader = DataLoader(test_dataset, batch_size=32, shuffle=False)"
      ],
      "metadata": {
        "id": "4iJ2S_osvHYL"
      },
      "execution_count": 38,
      "outputs": []
    },
    {
      "cell_type": "code",
      "source": [
        "# Iterate through the batches in the training data loader\n",
        "for X_batch, y_batch in train_loader:\n",
        "    # Print the shape (dimensions) of the feature batch\n",
        "    print(\"Feature batch shape (X_batch):\", X_batch.shape)\n",
        "\n",
        "    # Print the shape (dimensions) of the target batch\n",
        "    print(\"Target batch shape (y_batch):\", y_batch.shape)\n",
        "\n",
        "    # Break the loop after processing the first batch\n",
        "    break"
      ],
      "metadata": {
        "colab": {
          "base_uri": "https://localhost:8080/"
        },
        "id": "967zej8vvxHa",
        "outputId": "903a9d1d-dcfe-4fd6-a6c8-cdeaaf09e34c"
      },
      "execution_count": 39,
      "outputs": [
        {
          "output_type": "stream",
          "name": "stdout",
          "text": [
            "Feature batch shape (X_batch): torch.Size([32, 30])\n",
            "Target batch shape (y_batch): torch.Size([32])\n"
          ]
        }
      ]
    },
    {
      "cell_type": "code",
      "source": [
        "# Import accuracy_score for evaluating predictions\n",
        "from sklearn.metrics import accuracy_score\n",
        "\n",
        "# Define a custom neural network model for breast cancer prediction\n",
        "class BreastCancerModel(nn.Module):\n",
        "    def __init__(self, input_dim):\n",
        "        super(BreastCancerModel, self).__init__()\n",
        "\n",
        "        # Define the layers of the model\n",
        "        self.fc1 = nn.Linear(input_dim, 64)  # First fully connected layer (input to hidden)\n",
        "        self.fc2 = nn.Linear(64, 32)        # Second fully connected layer (hidden to hidden)\n",
        "        self.fc3 = nn.Linear(32, 1)         # Third fully connected layer (hidden to output)\n",
        "\n",
        "        # Define activation functions\n",
        "        self.relu = nn.ReLU()               # ReLU activation for hidden layers\n",
        "        self.sigmoid = nn.Sigmoid()         # Sigmoid activation for output layer\n",
        "\n",
        "    def forward(self, x):\n",
        "        # Forward propagation through the model\n",
        "        x = self.fc1(x)\n",
        "        x = self.relu(x)\n",
        "        x = self.fc2(x)\n",
        "        x = self.relu(x)\n",
        "        x = self.fc3(x)\n",
        "        x = self.sigmoid(x)  # Sigmoid ensures output is between 0 and 1\n",
        "        return x\n",
        "\n",
        "    def predict(self, x, thresh=0.5):\n",
        "        # Make predictions with a threshold applied\n",
        "        self.eval()  # Set the model to evaluation mode\n",
        "        with torch.no_grad():\n",
        "            output_probs = self.forward(x)  # Get probabilities\n",
        "            output_labels = (output_probs >= thresh).int()  # Convert to binary labels\n",
        "            return output_probs, output_labels\n",
        "\n",
        "    def evaluate_accuracy(self, test_loader):\n",
        "        # Evaluate the model's performance on the test dataset (accuracy)\n",
        "        self.eval()  # Set the model to evaluation mode\n",
        "        total = 0\n",
        "        correct = 0\n",
        "        with torch.no_grad():\n",
        "            for X_batch, y_batch in test_loader:\n",
        "                output_probs, output_labels = self.predict(X_batch, 0.5)  # Threshold is 0.5\n",
        "                total += y_batch.size(0)  # Update total samples\n",
        "                correct += (output_labels.squeeze() == y_batch).sum().item()  # Correct predictions\n",
        "        return correct / total  # Return overall accuracy\n",
        "\n",
        "    def evaluate_loss(self, criterion, test_loader):\n",
        "        # Evaluate the model's performance on the test dataset (loss)\n",
        "        self.eval()\n",
        "        total_loss = 0\n",
        "        with torch.no_grad():\n",
        "            for X_batch, y_batch in test_loader:\n",
        "                output_probs, _ = self.predict(X_batch, 0.5)\n",
        "                loss = criterion(output_probs, y_batch.unsqueeze(1))  # Ensure y_batch is 2D\n",
        "                total_loss += loss.item()\n",
        "        return total_loss / len(test_loader)\n",
        "\n",
        "# Instantiate the model with the input dimension equal to the number of features\n",
        "model = BreastCancerModel(X.shape[1])\n",
        "\n",
        "# Define binary cross entropy loss for classification\n",
        "criterion = nn.BCELoss()\n",
        "\n",
        "# Use the Adam optimizer for training the model\n",
        "optimizer = optim.Adam(model.parameters(), lr=0.001)\n",
        "\n",
        "# Set the number of epochs for training\n",
        "num_epochs = 1000\n",
        "\n",
        "# Start training the model\n",
        "print(\"Starting training model!\")\n",
        "tot_acc = []  # List to store accuracy per epoch\n",
        "tot_loss = []  # List to store loss per epoch\n",
        "val_loss = []  # List to store validation loss\n",
        "val_acc = []   # List to store validation accuracy\n",
        "\n",
        "for epoch in range(num_epochs):\n",
        "    model.train()  # Set the model to training mode\n",
        "    batch_num = 0\n",
        "    epoch_loss = 0\n",
        "    epoch_acc = 0\n",
        "\n",
        "    # Mini batch gradient descent\n",
        "    for X_batch, y_batch in train_loader:\n",
        "        # Perform forward pass\n",
        "        predictions = model(X_batch)\n",
        "\n",
        "        # Convert predictions to binary labels using a threshold\n",
        "        labels = (predictions >= 0.5).int()  # Apply the threshold\n",
        "\n",
        "        # Calculate the loss\n",
        "        loss = criterion(predictions, y_batch.unsqueeze(1))  # Ensure y_batch is 2D\n",
        "\n",
        "        # Calculate accuracy for the current batch\n",
        "        accuracy = accuracy_score(y_batch.detach().numpy(), labels.detach().numpy().squeeze())\n",
        "\n",
        "        # Accumulate loss and accuracy\n",
        "        epoch_loss += loss.item()\n",
        "        epoch_acc += accuracy\n",
        "\n",
        "        # Perform backward pass and optimization\n",
        "        loss.backward()\n",
        "        optimizer.step()\n",
        "        optimizer.zero_grad()\n",
        "        batch_num += 1\n",
        "\n",
        "    # Compute average loss and accuracy for the epoch\n",
        "    epoch_loss /= batch_num\n",
        "    epoch_acc /= batch_num\n",
        "\n",
        "    # Store metrics for the epoch\n",
        "    tot_loss.append(epoch_loss)\n",
        "    tot_acc.append(epoch_acc)\n",
        "\n",
        "    # Evaluate on the test set\n",
        "    test_loss = model.evaluate_loss(criterion, test_loader)\n",
        "    test_acc = model.evaluate_accuracy(test_loader)\n",
        "    val_loss.append(test_loss)\n",
        "    val_acc.append(test_acc)\n",
        "\n",
        "    # Print metrics every 100 epochs\n",
        "    if (epoch + 1) % 100 == 0:\n",
        "        print(f\"Epoch [{epoch + 1}/{num_epochs}], Training Loss: {epoch_loss:.4f}, Training Accuracy: {epoch_acc:.4f}, Testing Loss: {test_loss:.4f}, Testing Accuracy: {test_acc:.4f}\")\n",
        "\n",
        "print(\"Finished training model!\")"
      ],
      "metadata": {
        "colab": {
          "base_uri": "https://localhost:8080/"
        },
        "id": "nfEy2lPtwpir",
        "outputId": "de6bb0ba-7e77-4768-b158-df04de92ba75"
      },
      "execution_count": 42,
      "outputs": [
        {
          "output_type": "stream",
          "name": "stdout",
          "text": [
            "Starting training model!\n",
            "Epoch [100/1000], Training Loss: 0.1820, Training Accuracy: 0.9280, Testing Loss: 0.0955, Testing Accuracy: 0.9649\n",
            "Epoch [200/1000], Training Loss: 0.1438, Training Accuracy: 0.9479, Testing Loss: 0.0987, Testing Accuracy: 0.9825\n",
            "Epoch [300/1000], Training Loss: 0.1287, Training Accuracy: 0.9467, Testing Loss: 0.1313, Testing Accuracy: 0.9211\n",
            "Epoch [400/1000], Training Loss: 0.0871, Training Accuracy: 0.9646, Testing Loss: 0.0815, Testing Accuracy: 0.9737\n",
            "Epoch [500/1000], Training Loss: 0.0998, Training Accuracy: 0.9583, Testing Loss: 0.1022, Testing Accuracy: 0.9386\n",
            "Epoch [600/1000], Training Loss: 0.1154, Training Accuracy: 0.9521, Testing Loss: 0.2302, Testing Accuracy: 0.9298\n",
            "Epoch [700/1000], Training Loss: 0.2631, Training Accuracy: 0.9030, Testing Loss: 0.2150, Testing Accuracy: 0.9123\n",
            "Epoch [800/1000], Training Loss: 0.0546, Training Accuracy: 0.9812, Testing Loss: 0.0580, Testing Accuracy: 0.9649\n",
            "Epoch [900/1000], Training Loss: 0.0460, Training Accuracy: 0.9792, Testing Loss: 0.1670, Testing Accuracy: 0.9298\n",
            "Epoch [1000/1000], Training Loss: 0.0870, Training Accuracy: 0.9625, Testing Loss: 0.1807, Testing Accuracy: 0.9211\n",
            "Finished training model!\n"
          ]
        }
      ]
    },
    {
      "cell_type": "code",
      "source": [
        "# Plot the training loss\n",
        "plt.plot(tot_loss, label=\"Training Loss\")\n",
        "\n",
        "# Plot the validation loss\n",
        "plt.plot(val_loss, label=\"Validation Loss\")\n",
        "\n",
        "# Add title to the plot\n",
        "plt.title(\"Loss vs Epoch\")\n",
        "\n",
        "# Label the x-axis (Epochs)\n",
        "plt.xlabel(\"Epoch\")\n",
        "\n",
        "# Label the y-axis (Loss)\n",
        "plt.ylabel(\"Loss\")\n",
        "\n",
        "# Add legend to distinguish the lines\n",
        "plt.legend()\n",
        "\n",
        "# Display the plot\n",
        "plt.show()"
      ],
      "metadata": {
        "colab": {
          "base_uri": "https://localhost:8080/",
          "height": 472
        },
        "id": "YByErwl325vM",
        "outputId": "71c3bcd6-569b-4795-a824-666ffb28263b"
      },
      "execution_count": 45,
      "outputs": [
        {
          "output_type": "display_data",
          "data": {
            "text/plain": [
              "<Figure size 640x480 with 1 Axes>"
            ],
            "image/png": "[encoded data removed]"
          },
          "metadata": {}
        }
      ]
    },
    {
      "cell_type": "code",
      "source": [
        "# Plot the training loss\n",
        "plt.plot(tot_acc, label=\"Training Accuracy\")\n",
        "\n",
        "# Plot the validation loss\n",
        "plt.plot(val_acc, label=\"Validation Accuracy\")\n",
        "\n",
        "# Add title to the plot\n",
        "plt.title(\"Accuracy vs Epoch\")\n",
        "\n",
        "# Label the x-axis (Epochs)\n",
        "plt.xlabel(\"Epoch\")\n",
        "\n",
        "# Label the y-axis (Loss)\n",
        "plt.ylabel(\"Accuracy\")\n",
        "\n",
        "# Add legend to distinguish the lines\n",
        "plt.legend()\n",
        "\n",
        "# Display the plot\n",
        "plt.show()"
      ],
      "metadata": {
        "colab": {
          "base_uri": "https://localhost:8080/",
          "height": 472
        },
        "id": "T55q3mh885PL",
        "outputId": "b716389a-2bae-4edf-d475-b5bb9927565e"
      },
      "execution_count": 47,
      "outputs": [
        {
          "output_type": "display_data",
          "data": {
            "text/plain": [
              "<Figure size 640x480 with 1 Axes>"
            ],
            "image/png": "[encoded data removed]"
          },
          "metadata": {}
        }
      ]
    },
    {
      "cell_type": "code",
      "source": [
        "# Set the model to evaluation mode\n",
        "model.eval()\n",
        "\n",
        "# Initialize variables to track accuracy and loss\n",
        "test_acc = 0\n",
        "test_loss = 0\n",
        "\n",
        "# Iterate through the test DataLoader\n",
        "for X_batch, y_batch in test_loader:\n",
        "    # Perform predictions with the model\n",
        "    output_probs, output_labels = model.predict(X_batch, thresh=0.5)\n",
        "\n",
        "    # Compute the loss for the current batch\n",
        "    # Ensure y_batch is reshaped to match output_probs\n",
        "    test_loss += criterion(output_probs, y_batch.unsqueeze(1)).item()\n",
        "\n",
        "    # Calculate accuracy for the current batch\n",
        "    test_acc += accuracy_score(y_batch.detach().numpy(), output_labels.detach().numpy())\n",
        "\n",
        "# Compute average loss and accuracy across all batches\n",
        "test_loss /= len(test_loader)\n",
        "test_acc /= len(test_loader)\n",
        "\n",
        "# Print the final test loss and accuracy\n",
        "print(f\"Test Loss: {test_loss:.4f}, Test Accuracy: {test_acc:.4f}\")"
      ],
      "metadata": {
        "colab": {
          "base_uri": "https://localhost:8080/"
        },
        "id": "2x1aQK6g3DL6",
        "outputId": "2e3997ee-c687-47a1-f448-15da805b4b64"
      },
      "execution_count": 51,
      "outputs": [
        {
          "output_type": "stream",
          "name": "stdout",
          "text": [
            "Test Loss: 0.1807, Test Accuracy: 0.9297\n"
          ]
        }
      ]
    },
    {
      "cell_type": "code",
      "source": [
        "# Save the trained model to a file\n",
        "# This saves the entire model, including its architecture and parameters\n",
        "torch.save(model, \"breast_cancer_model.pth\")\n",
        "\n",
        "print(\"Model successfully saved as 'breast_cancer_model.pth'\")"
      ],
      "metadata": {
        "colab": {
          "base_uri": "https://localhost:8080/"
        },
        "id": "KWuRo8cL3m8k",
        "outputId": "de22e020-c038-4b44-c0eb-4c82f6b216a3"
      },
      "execution_count": 53,
      "outputs": [
        {
          "output_type": "stream",
          "name": "stdout",
          "text": [
            "Model successfully saved as 'breast_cancer_model.pth'\n"
          ]
        }
      ]
    }
  ]
}